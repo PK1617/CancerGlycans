{
 "cells": [
  {
   "cell_type": "markdown",
   "metadata": {},
   "source": [
    "# Trial code with artificial categories, deeper than required network "
   ]
  },
  {
   "cell_type": "code",
   "execution_count": 1,
   "metadata": {},
   "outputs": [
    {
     "name": "stderr",
     "output_type": "stream",
     "text": [
      "Using TensorFlow backend.\n"
     ]
    }
   ],
   "source": [
    "\n",
    "import tensorflow as tf\n",
    "import pandas as pd\n",
    "from keras.models import Sequential\n",
    "from keras.layers import Dense, LSTM, SimpleRNN, Dropout, GaussianNoise\n",
    "from keras.optimizers import Adam, SGD\n",
    "from keras.utils import to_categorical \n",
    "from matplotlib import pyplot as plt\n",
    "import numpy as np\n",
    "from sklearn.model_selection import train_test_split\n",
    "from sklearn.preprocessing import StandardScaler, LabelEncoder, OneHotEncoder, LabelBinarizer, MinMaxScaler"
   ]
  },
  {
   "cell_type": "code",
   "execution_count": 2,
   "metadata": {},
   "outputs": [],
   "source": [
    "def process_attributes(df, train, test):\n",
    "    cs = MinMaxScaler()\n",
    "    trainContinuous = cs.fit_transform(train.iloc[:,0:24])\n",
    "    testContinuous = cs.transform(test.iloc[:,0:24])\n",
    "    zipBinarizer = LabelBinarizer().fit(df[\"Cat\"])\n",
    "    trainCategorical = zipBinarizer.transform(train[\"Cat\"])\n",
    "    testCategorical = zipBinarizer.transform(test[\"Cat\"])\n",
    "    # construct our training and testing data points by concatenating\n",
    "    # the categorical features with the continuous features\n",
    "    trainX = np.hstack([trainCategorical, trainContinuous])\n",
    "    testX = np.hstack([testCategorical, testContinuous])\n",
    "    # return the concatenated training and testing data\n",
    "    return (trainX, testX)"
   ]
  },
  {
   "cell_type": "code",
   "execution_count": 3,
   "metadata": {},
   "outputs": [],
   "source": [
    "#read the dataset with artificial categories\n",
    "df = pd.read_excel('Overall Colorectal Cancer Generated data categorical.xlsx')\n",
    "df.set_index('Name',inplace=True)"
   ]
  },
  {
   "cell_type": "code",
   "execution_count": 5,
   "metadata": {},
   "outputs": [],
   "source": [
    "#extract inputs and outputs\n",
    "df_outputs= df['Marker']\n",
    "df.drop('Marker',axis=1,inplace=True)\n",
    "df_inputs=df"
   ]
  },
  {
   "cell_type": "code",
   "execution_count": 6,
   "metadata": {},
   "outputs": [],
   "source": [
    "#splitting the data to training and testing\n",
    "train_inputs, test_inputs, train_outputs, test_outputs = train_test_split(df_inputs, df_outputs, test_size=0.3, shuffle=True)"
   ]
  },
  {
   "cell_type": "code",
   "execution_count": 7,
   "metadata": {},
   "outputs": [],
   "source": [
    "#encode categorical variables and scale numerical ones\n",
    "(train_inputs, test_inputs) = process_attributes(df_inputs, train_inputs, test_inputs)"
   ]
  },
  {
   "cell_type": "code",
   "execution_count": 8,
   "metadata": {},
   "outputs": [],
   "source": [
    "#encode output variable\n",
    "train_outputs = to_categorical(train_outputs)\n",
    "test_outputs = to_categorical(test_outputs)"
   ]
  },
  {
   "cell_type": "code",
   "execution_count": 9,
   "metadata": {},
   "outputs": [],
   "source": [
    "#Parameters used in the network\n",
    "iterations = 100\n"
   ]
  },
  {
   "cell_type": "code",
   "execution_count": 10,
   "metadata": {},
   "outputs": [],
   "source": [
    "#build classification model \n",
    "model =tf.keras.Sequential()\n",
    "\n",
    "model.add(tf.keras.layers.Dense(units = 13,\n",
    "                         activation='sigmoid',\n",
    "                         ))\n",
    "\n",
    "model.add(tf.keras.layers.Dense(units = 13,\n",
    "                         activation='sigmoid'))\n",
    "\n",
    "model.add(tf.keras.layers.Dense(units = 13,\n",
    "                         activation='sigmoid'))\n",
    "\n",
    "model.add(tf.keras.layers.Dense(units = 13,\n",
    "                         activation='sigmoid'))\n",
    "\n",
    "model.add(tf.keras.layers.Dense(units = 2,\n",
    "                         activation='softmax'))\n",
    "#model = Sequential([\n",
    "    #GaussianNoise(0.1,\n",
    "    #    input_shape= (number_of_genes + PIs,)),\n",
    "    #Dense(units = 24,\n",
    "          #activation= 'sigmoid',\n",
    "          #input_shape= (number_of_glycans + PIs,)),\n",
    "   # Dropout(0.2),\n",
    "   # Dense(units = 10,\n",
    "   #       activation='sigmoid'),\n",
    "   # Dense(units = 2,\n",
    "   #       activation = 'softmax')])"
   ]
  },
  {
   "cell_type": "code",
   "execution_count": 11,
   "metadata": {},
   "outputs": [],
   "source": [
    "#compile model\n",
    "model.compile(\n",
    "    optimizer = tf.keras.optimizers.Adam(),\n",
    "    loss = 'categorical_crossentropy',\n",
    "    metrics = ['accuracy'])"
   ]
  },
  {
   "cell_type": "code",
   "execution_count": 12,
   "metadata": {},
   "outputs": [],
   "source": [
    "#fit model and store iteration data\n",
    "history = model.fit(\n",
    "    train_inputs,\n",
    "    train_outputs,\n",
    "    epochs = iterations,\n",
    "    batch_size = 32,\n",
    "    verbose = 0,\n",
    "    shuffle = False)"
   ]
  },
  {
   "cell_type": "code",
   "execution_count": 13,
   "metadata": {},
   "outputs": [
    {
     "name": "stdout",
     "output_type": "stream",
     "text": [
      "615/615 [==============================] - 0s 444us/sample - loss: 0.0534 - accuracy: 0.9772\n",
      "[0.05335316670134785, 0.9772358]\n"
     ]
    }
   ],
   "source": [
    "#evaluate model with test data\n",
    "print(model.evaluate(\n",
    "    test_inputs,\n",
    "    test_outputs,\n",
    "    batch_size = 32,\n",
    "    verbose = 1))"
   ]
  },
  {
   "cell_type": "code",
   "execution_count": 14,
   "metadata": {},
   "outputs": [
    {
     "name": "stdout",
     "output_type": "stream",
     "text": [
      "dict_keys(['loss', 'accuracy'])\n"
     ]
    }
   ],
   "source": [
    "history_dict = history.history\n",
    "print(history_dict.keys())"
   ]
  },
  {
   "cell_type": "code",
   "execution_count": 15,
   "metadata": {},
   "outputs": [
    {
     "data": {
      "image/png": "[encoded data removed]",
      "text/plain": [
       "<Figure size 432x288 with 1 Axes>"
      ]
     },
     "metadata": {
      "needs_background": "light"
     },
     "output_type": "display_data"
    }
   ],
   "source": [
    "# Visualize history\n",
    "# Plot history: Loss\n",
    "plt.plot(history.history['loss'])\n",
    "plt.title('Validation loss history')\n",
    "plt.ylabel('Loss value')\n",
    "plt.xlabel('No. epoch')\n",
    "plt.show()"
   ]
  },
  {
   "cell_type": "code",
   "execution_count": 16,
   "metadata": {},
   "outputs": [
    {
     "data": {
      "image/png": "[encoded data removed]",
      "text/plain": [
       "<Figure size 432x288 with 1 Axes>"
      ]
     },
     "metadata": {
      "needs_background": "light"
     },
     "output_type": "display_data"
    }
   ],
   "source": [
    "# Plot history: Accuracy\n",
    "plt.plot(history.history['accuracy'])\n",
    "plt.title('Validation accuracy history')\n",
    "plt.ylabel('Accuracy value (%)')\n",
    "plt.xlabel('No. epoch')\n",
    "plt.show()"
   ]
  }
 ],
 "metadata": {
  "kernelspec": {
   "display_name": "Python 3",
   "language": "python",
   "name": "python3"
  },
  "language_info": {
   "codemirror_mode": {
    "name": "ipython",
    "version": 3
   },
   "file_extension": ".py",
   "mimetype": "text/x-python",
   "name": "python",
   "nbconvert_exporter": "python",
   "pygments_lexer": "ipython3",
   "version": "3.6.12"
  }
 },
 "nbformat": 4,
 "nbformat_minor": 4
}
