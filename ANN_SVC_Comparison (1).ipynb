{
 "cells": [
  {
   "cell_type": "code",
   "execution_count": 1,
   "metadata": {},
   "outputs": [
    {
     "name": "stderr",
     "output_type": "stream",
     "text": [
      "Using TensorFlow backend.\n"
     ]
    }
   ],
   "source": [
    "import tensorflow as tf\n",
    "import pandas as pd\n",
    "from keras.models import Sequential\n",
    "from keras.layers import Dense, LSTM, SimpleRNN, Dropout, GaussianNoise\n",
    "from keras.optimizers import Adam, SGD\n",
    "from keras.utils import to_categorical \n",
    "from matplotlib import pyplot as plt\n",
    "import numpy as np\n",
    "from sklearn.model_selection import train_test_split\n",
    "from sklearn.preprocessing import StandardScaler\n",
    "from sklearn.metrics import classification_report, confusion_matrix\n",
    "from sklearn.svm import SVC\n",
    "from sklearn.linear_model import LogisticRegression"
   ]
  },
  {
   "cell_type": "code",
   "execution_count": 2,
   "metadata": {},
   "outputs": [],
   "source": [
    "df = pd.read_excel('Overall Colorectal Cancer Generated data.xlsx')\n",
    "df.set_index('Name',inplace=True)"
   ]
  },
  {
   "cell_type": "code",
   "execution_count": 3,
   "metadata": {},
   "outputs": [],
   "source": [
    "df_outputs= df['Marker']\n",
    "df.drop('Marker',axis=1,inplace=True)\n",
    "df_inputs=df"
   ]
  },
  {
   "cell_type": "code",
   "execution_count": 4,
   "metadata": {},
   "outputs": [],
   "source": [
    "#splitting the data to training and testing\n",
    "train_inputs, test_inputs, train_outputs, test_outputs = train_test_split(df_inputs, df_outputs, test_size=0.3, shuffle=True)"
   ]
  },
  {
   "cell_type": "code",
   "execution_count": 5,
   "metadata": {},
   "outputs": [],
   "source": [
    "train_outputs = to_categorical(train_outputs)\n",
    "test_outputs = to_categorical(test_outputs)"
   ]
  },
  {
   "cell_type": "code",
   "execution_count": 6,
   "metadata": {},
   "outputs": [],
   "source": [
    "#Parameters used in the network\n",
    "PIs = 0\n",
    "number_of_glycans = len(df_inputs.columns) #it's actually the number of glycans\n",
    "iterations = 1000\n"
   ]
  },
  {
   "cell_type": "code",
   "execution_count": 7,
   "metadata": {},
   "outputs": [],
   "source": [
    "#Build the network\n",
    "#The #186 system\n",
    "model = Sequential([\n",
    "    #GaussianNoise(0.1,\n",
    "    #    input_shape= (number_of_genes + PIs,)),\n",
    "    Dense(units = 13,\n",
    "          activation= 'relu'),\n",
    "    #Dropout(0.2),\n",
    "    Dense(units = 13,\n",
    "          activation='sigmoid'),\n",
    "    Dense(units = 2,\n",
    "          activation = 'softmax')])"
   ]
  },
  {
   "cell_type": "code",
   "execution_count": 8,
   "metadata": {},
   "outputs": [],
   "source": [
    "model.compile(\n",
    "    optimizer = Adam(lr=0.01),\n",
    "    loss = 'categorical_crossentropy',\n",
    "    metrics = ['accuracy'])"
   ]
  },
  {
   "cell_type": "code",
   "execution_count": 9,
   "metadata": {},
   "outputs": [
    {
     "data": {
      "text/plain": [
       "<keras.callbacks.callbacks.History at 0x294dc6d9cc0>"
      ]
     },
     "execution_count": 9,
     "metadata": {},
     "output_type": "execute_result"
    }
   ],
   "source": [
    "model.fit(\n",
    "    train_inputs.to_numpy(),\n",
    "    train_outputs,\n",
    "    epochs = iterations,\n",
    "    batch_size = 32,\n",
    "    verbose = 0,\n",
    "    shuffle = False)"
   ]
  },
  {
   "cell_type": "code",
   "execution_count": 10,
   "metadata": {},
   "outputs": [
    {
     "name": "stdout",
     "output_type": "stream",
     "text": [
      "615/615 [==============================] - 0s 63us/step\n",
      "[0.28142722917766105, 0.9073171019554138]\n"
     ]
    }
   ],
   "source": [
    "print(model.evaluate(\n",
    "    test_inputs,\n",
    "    test_outputs,\n",
    "    batch_size = 32,\n",
    "    verbose = 1))"
   ]
  },
  {
   "cell_type": "code",
   "execution_count": 11,
   "metadata": {},
   "outputs": [],
   "source": [
    "#Calculate the labels for the test set\n",
    "predictions = model.predict(test_inputs)\n"
   ]
  },
  {
   "cell_type": "code",
   "execution_count": 13,
   "metadata": {},
   "outputs": [
    {
     "name": "stdout",
     "output_type": "stream",
     "text": [
      "[[270  33]\n",
      " [ 24 288]]\n",
      "              precision    recall  f1-score   support\n",
      "\n",
      "           0       0.92      0.89      0.90       303\n",
      "           1       0.90      0.92      0.91       312\n",
      "\n",
      "    accuracy                           0.91       615\n",
      "   macro avg       0.91      0.91      0.91       615\n",
      "weighted avg       0.91      0.91      0.91       615\n",
      "\n"
     ]
    }
   ],
   "source": [
    "#confusion matrix for the ANN\n",
    "print(confusion_matrix(np.argmax(test_outputs, axis=1), np.argmax(predictions, axis=1)))\n",
    "print(classification_report(np.argmax(test_outputs, axis=1), np.argmax(predictions, axis=1)))"
   ]
  },
  {
   "cell_type": "code",
   "execution_count": 14,
   "metadata": {},
   "outputs": [
    {
     "data": {
      "text/plain": [
       "SVC(kernel='linear')"
      ]
     },
     "execution_count": 14,
     "metadata": {},
     "output_type": "execute_result"
    }
   ],
   "source": [
    "#define SVC classifier. Pick the type of kernel.Train the classifier\n",
    "svclassifier = SVC(kernel='linear')\n",
    "#svclassifier = SVC(kernel='rbf')\n",
    "#svclassifier = SVC(kernel='sigmoid')\n",
    "svclassifier.fit(train_inputs, np.argmax(train_outputs, axis=1))"
   ]
  },
  {
   "cell_type": "code",
   "execution_count": 15,
   "metadata": {},
   "outputs": [],
   "source": [
    "#use classifier on test set\n",
    "y_pred = svclassifier.predict(test_inputs)"
   ]
  },
  {
   "cell_type": "code",
   "execution_count": 16,
   "metadata": {},
   "outputs": [
    {
     "name": "stdout",
     "output_type": "stream",
     "text": [
      "[[282  21]\n",
      " [ 33 279]]\n",
      "              precision    recall  f1-score   support\n",
      "\n",
      "           0       0.90      0.93      0.91       303\n",
      "           1       0.93      0.89      0.91       312\n",
      "\n",
      "    accuracy                           0.91       615\n",
      "   macro avg       0.91      0.91      0.91       615\n",
      "weighted avg       0.91      0.91      0.91       615\n",
      "\n"
     ]
    }
   ],
   "source": [
    "#confusion matrix for the SVC classifier\n",
    "print(confusion_matrix(np.argmax(test_outputs,axis=1),y_pred))\n",
    "print(classification_report(np.argmax(test_outputs,axis=1),y_pred))"
   ]
  },
  {
   "cell_type": "code",
   "execution_count": 17,
   "metadata": {},
   "outputs": [],
   "source": [
    "#get matrices as vars\n",
    "matrix_ANN=confusion_matrix(np.argmax(test_outputs, axis=1), np.argmax(predictions, axis=1))\n",
    "matrix_lin=confusion_matrix(np.argmax(test_outputs,axis=1),y_pred) "
   ]
  },
  {
   "cell_type": "code",
   "execution_count": 18,
   "metadata": {},
   "outputs": [],
   "source": [
    "#prepare a table to populate\n",
    "table = pd.DataFrame(np.zeros((4,2)),index='TruePos TrueNeg FalsePos FalseNeg'.split(),columns='ANN LinearClassifier'.split())"
   ]
  },
  {
   "cell_type": "code",
   "execution_count": 19,
   "metadata": {},
   "outputs": [],
   "source": [
    "#populate ANN column\n",
    "table['ANN'][0]=matrix_ANN[1][1]\n",
    "table['ANN'][1]=matrix_ANN[0][0]\n",
    "table['ANN'][2]=matrix_ANN[0][1]\n",
    "table['ANN'][3]=matrix_ANN[1][0]"
   ]
  },
  {
   "cell_type": "code",
   "execution_count": 20,
   "metadata": {},
   "outputs": [],
   "source": [
    "#populate classifier column\n",
    "table['LinearClassifier'][0]=matrix_lin[1][1]\n",
    "table['LinearClassifier'][1]=matrix_lin[0][0]\n",
    "table['LinearClassifier'][2]=matrix_lin[0][1]\n",
    "table['LinearClassifier'][3]=matrix_lin[1][0]"
   ]
  },
  {
   "cell_type": "code",
   "execution_count": 21,
   "metadata": {},
   "outputs": [
    {
     "name": "stdout",
     "output_type": "stream",
     "text": [
      "            ANN  LinearClassifier\n",
      "TruePos   288.0             279.0\n",
      "TrueNeg   270.0             282.0\n",
      "FalsePos   33.0              21.0\n",
      "FalseNeg   24.0              33.0\n"
     ]
    }
   ],
   "source": [
    "#print table detailing correct and incorrect predictions, by Positive/Negative\n",
    "print(table)"
   ]
  }
 ],
 "metadata": {
  "kernelspec": {
   "display_name": "Python 3",
   "language": "python",
   "name": "python3"
  },
  "language_info": {
   "codemirror_mode": {
    "name": "ipython",
    "version": 3
   },
   "file_extension": ".py",
   "mimetype": "text/x-python",
   "name": "python",
   "nbconvert_exporter": "python",
   "pygments_lexer": "ipython3",
   "version": "3.6.12"
  }
 },
 "nbformat": 4,
 "nbformat_minor": 4
}
